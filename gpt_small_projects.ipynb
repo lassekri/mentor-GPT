{
 "cells": [
  {
   "cell_type": "markdown",
   "metadata": {},
   "source": [
    "# Project Idea: To-Do List Application\n",
    "Create a command-line to-do list application in Python. This project will help you practice working with lists, user input, and basic file I/O. \n"
   ]
  },
  {
   "cell_type": "markdown",
   "metadata": {},
   "source": [
    "### 1: Task List: Maintain a list of tasks that users want to complete."
   ]
  },
  {
   "cell_type": "code",
   "execution_count": 23,
   "metadata": {},
   "outputs": [
    {
     "name": "stdout",
     "output_type": "stream",
     "text": [
      "1. Complete homework\n",
      "2. Do the laundry\n",
      "3. Go grocery shopping\n"
     ]
    }
   ],
   "source": [
    "class ToDoList: \n",
    "    def __init__(self):\n",
    "        self.tasks = [] \n",
    "    \n",
    "    def add_task(self,task):\n",
    "        self.tasks.append(task)\n",
    "\n",
    "    def remove_task(self, task):\n",
    "        self.tasks.remove(task)\n",
    "    \n",
    "    def view_tasks(self):\n",
    "        for idx, task in enumerate(self.tasks, start = 1):\n",
    "            print(f\"{idx}. {task}\")\n",
    "\n",
    "\n",
    "# Example Usage: \n",
    "\n",
    "my_todo_list = ToDoList()\n",
    "my_todo_list.add_task(\"Complete homework\")\n",
    "my_todo_list.add_task(\"Do the laundry\")\n",
    "my_todo_list.add_task(\"Go grocery shopping\")\n",
    "my_todo_list.view_tasks()\n",
    "\n"
   ]
  },
  {
   "cell_type": "markdown",
   "metadata": {},
   "source": []
  },
  {
   "cell_type": "markdown",
   "metadata": {},
   "source": [
    "### 2. User interface: Create a simple command-line interface"
   ]
  }
 ],
 "metadata": {
  "kernelspec": {
   "display_name": "mimo",
   "language": "python",
   "name": "python3"
  },
  "language_info": {
   "codemirror_mode": {
    "name": "ipython",
    "version": 3
   },
   "file_extension": ".py",
   "mimetype": "text/x-python",
   "name": "python",
   "nbconvert_exporter": "python",
   "pygments_lexer": "ipython3",
   "version": "3.9.6"
  },
  "orig_nbformat": 4
 },
 "nbformat": 4,
 "nbformat_minor": 2
}
